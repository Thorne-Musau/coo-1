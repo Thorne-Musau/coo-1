{
  "nbformat": 4,
  "nbformat_minor": 0,
  "metadata": {
    "colab": {
      "provenance": [],
      "authorship_tag": "ABX9TyODTCQG7HBBcdNmtIgoJGLa",
      "include_colab_link": true
    },
    "kernelspec": {
      "name": "python3",
      "display_name": "Python 3"
    },
    "language_info": {
      "name": "python"
    }
  },
  "cells": [
    {
      "cell_type": "markdown",
      "metadata": {
        "id": "view-in-github",
        "colab_type": "text"
      },
      "source": [
        "<a href=\"https://colab.research.google.com/github/Thorne-Musau/coo-1/blob/main/Dijk.ipynb\" target=\"_parent\"><img src=\"https://colab.research.google.com/assets/colab-badge.svg\" alt=\"Open In Colab\"/></a>"
      ]
    },
    {
      "cell_type": "code",
      "execution_count": null,
      "metadata": {
        "colab": {
          "base_uri": "https://localhost:8080/"
        },
        "id": "UHJ-1mWl26YB",
        "outputId": "302d1131-1352-4317-bf68-fe9d2c28929d"
      },
      "outputs": [
        {
          "output_type": "stream",
          "name": "stdout",
          "text": [
            "Enter the start node: \n",
            "NoneB\n",
            "Shortest distances from B :\n",
            "To A: 1\n",
            "To B: 0\n",
            "To C: 2\n",
            "To D: 3\n",
            "\n",
            "Predecessor nodes:\n",
            "A: B\n",
            "B: None\n",
            "C: B\n",
            "D: C\n"
          ]
        }
      ],
      "source": [
        "import heapq\n",
        "\n",
        "# Dijkstra algorithm function\n",
        "def dijkstra(graph, start):\n",
        "    # Initialize distances and predecessor dictionary\n",
        "    distances = {node: float('infinity') for node in graph}\n",
        "    distances[start] = 0\n",
        "    predecessors = {node: None for node in graph}\n",
        "\n",
        "    # Priority queue to keep track of nodes with their distances\n",
        "    priority_queue = [(0, start)]\n",
        "\n",
        "    while priority_queue:\n",
        "        current_distance, current_node = heapq.heappop(priority_queue)\n",
        "\n",
        "        # Check if the current path is shorter than the stored distance\n",
        "        if current_distance > distances[current_node]:\n",
        "            continue\n",
        "\n",
        "        # Explore neighbors\n",
        "        for neighbor, weight in graph[current_node].items():\n",
        "            distance = current_distance + weight\n",
        "\n",
        "            # If a shorter path is found, update distance and predecessor\n",
        "            if distance < distances[neighbor]:\n",
        "                distances[neighbor] = distance\n",
        "                predecessors[neighbor] = current_node\n",
        "                heapq.heappush(priority_queue, (distance, neighbor))\n",
        "\n",
        "    return distances, predecessors\n",
        "\n",
        "# Example usage:\n",
        "\n",
        "# Define a graph as an adjacency dictionary\n",
        "graph = {\n",
        "    'A': {'B': 1, 'C': 4},\n",
        "    'B': {'A': 1, 'C': 2, 'D': 5},\n",
        "    'C': {'A': 4, 'B': 2, 'D': 1},\n",
        "    'D': {'B': 5, 'C': 1}\n",
        "}\n",
        "\n",
        "# Specify the start node\n",
        "start_node = input(print(\"Enter the start node: \"))\n",
        "\n",
        "# Run Dijkstra's algorithm\n",
        "distances, predecessors = dijkstra(graph, start_node)\n",
        "\n",
        "# Print the results\n",
        "print(\"Shortest distances from\", start_node, \":\")\n",
        "for node, distance in distances.items():\n",
        "    print(f\"To {node}: {distance}\")\n",
        "\n",
        "print(\"\\nPredecessor nodes:\")\n",
        "for node, predecessor in predecessors.items():\n",
        "    print(f\"{node}: {predecessor}\")"
      ]
    }
  ]
}